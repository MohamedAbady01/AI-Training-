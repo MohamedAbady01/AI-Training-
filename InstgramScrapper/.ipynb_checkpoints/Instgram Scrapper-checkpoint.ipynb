{
 "cells": [
  {
   "cell_type": "code",
   "execution_count": 1,
   "id": "4a6448af",
   "metadata": {
    "ExecuteTime": {
     "end_time": "2022-12-13T16:02:03.369709Z",
     "start_time": "2022-12-13T16:02:03.036628Z"
    }
   },
   "outputs": [],
   "source": [
    "\n",
    "from selenium import webdriver\n",
    "from selenium.webdriver.common.keys import Keys\n",
    "import time\n",
    "from selenium.webdriver.support.wait import WebDriverWait\n",
    "from selenium.webdriver.common.by import By\n",
    "from selenium.webdriver.support import expected_conditions as EC\n",
    "import os\n",
    "from selenium.webdriver import Firefox\n",
    "import wget"
   ]
  },
  {
   "cell_type": "code",
   "execution_count": 2,
   "id": "de881418",
   "metadata": {
    "ExecuteTime": {
     "end_time": "2022-12-13T16:02:57.520682Z",
     "start_time": "2022-12-13T16:02:04.669539Z"
    }
   },
   "outputs": [
    {
     "name": "stderr",
     "output_type": "stream",
     "text": [
      "C:\\Users\\VT\\AppData\\Local\\Temp\\ipykernel_6076\\1411199399.py:1: DeprecationWarning: executable_path has been deprecated, please pass in a Service object\n",
      "  driver = webdriver.Firefox(executable_path=r'geckodriver.exe')\n"
     ]
    }
   ],
   "source": [
    "driver = webdriver.Firefox(executable_path=r'geckodriver.exe')\n",
    "driver.delete_all_cookies()\n",
    "driver.get('https://www.instagram.com')"
   ]
  },
  {
   "cell_type": "code",
   "execution_count": 3,
   "id": "7debdd1e",
   "metadata": {
    "ExecuteTime": {
     "end_time": "2022-12-13T16:02:59.659556Z",
     "start_time": "2022-12-13T16:02:57.524639Z"
    }
   },
   "outputs": [],
   "source": [
    "\n",
    "username = WebDriverWait(driver, 10).until(\n",
    "    EC.element_to_be_clickable((By.CSS_SELECTOR, \"input[name='username']\")))\n",
    "password = WebDriverWait(driver, 10).until(\n",
    "    EC.element_to_be_clickable((By.CSS_SELECTOR, \"input[name='password']\")))\n",
    "\n",
    "username.clear()\n",
    "username.send_keys(\"\")\n",
    "password.clear()\n",
    "password.send_keys(\"\")"
   ]
  },
  {
   "cell_type": "code",
   "execution_count": 4,
   "id": "07315123",
   "metadata": {
    "ExecuteTime": {
     "end_time": "2022-12-13T16:03:24.080336Z",
     "start_time": "2022-12-13T16:02:59.662555Z"
    }
   },
   "outputs": [],
   "source": [
    "\n",
    "button = WebDriverWait(driver, 2).until(EC.element_to_be_clickable(\n",
    "    (By.CSS_SELECTOR, \"button[type='submit']\"))).click()\n",
    "time.sleep(10)\n",
    "not_now = WebDriverWait(driver, 10).until(EC.element_to_be_clickable(\n",
    "    (By.XPATH, \"//button[contains(text(),'Not Now')]\"))).click()\n",
    "time.sleep(10)\n",
    "\n"
   ]
  },
  {
   "cell_type": "code",
   "execution_count": 20,
   "id": "c65adb43",
   "metadata": {
    "ExecuteTime": {
     "end_time": "2022-12-13T18:52:18.971366Z",
     "start_time": "2022-12-13T18:52:07.637628Z"
    }
   },
   "outputs": [],
   "source": [
    "serchbox = WebDriverWait(driver, 10).until(EC.element_to_be_clickable(\n",
    "    (By.XPATH, \"//input[@placeholder='Search']\")))\n",
    "serchbox.clear()\n",
    "\n",
    "keyword = '#cats'\n",
    "serchbox.send_keys(keyword)\n",
    "\n",
    "time.sleep(5)\n",
    "serchbox.send_keys(Keys.ENTER)\n",
    "time.sleep(5)\n",
    "serchbox.send_keys(Keys.ENTER)"
   ]
  },
  {
   "cell_type": "code",
   "execution_count": 21,
   "id": "dc877931",
   "metadata": {
    "ExecuteTime": {
     "end_time": "2022-12-13T18:57:40.792990Z",
     "start_time": "2022-12-13T18:52:20.374538Z"
    }
   },
   "outputs": [
    {
     "name": "stdout",
     "output_type": "stream",
     "text": [
      "45\n",
      "78\n",
      "81\n",
      "105\n",
      "111\n",
      "123\n",
      "135\n",
      "138\n",
      "150\n",
      "162\n",
      "165\n",
      "177\n",
      "189\n",
      "195\n",
      "195\n",
      "219\n",
      "error\n",
      "222\n",
      "234\n",
      "246\n",
      "252\n",
      "264\n",
      "276\n",
      "279\n",
      "291\n",
      "303\n",
      "309\n",
      "321\n",
      "333\n",
      "336\n",
      "348\n",
      "360\n",
      "366\n",
      "378\n",
      "390\n",
      "402\n",
      "414\n",
      "417\n",
      "429\n",
      "441\n",
      "444\n",
      "456\n",
      "468\n",
      "471\n",
      "484\n",
      "496\n",
      "511\n",
      "523\n",
      "538\n",
      "547\n",
      "547\n",
      "574\n",
      "577\n",
      "592\n",
      "601\n",
      "616\n",
      "625\n",
      "640\n",
      "646\n",
      "661\n",
      "673\n",
      "688\n",
      "694\n",
      "709\n",
      "721\n",
      "736\n",
      "748\n",
      "763\n",
      "775\n",
      "778\n",
      "793\n",
      "805\n",
      "820\n",
      "832\n",
      "847\n",
      "859\n",
      "874\n",
      "883\n",
      "898\n",
      "910\n"
     ]
    }
   ],
   "source": [
    "my_images = set()\n",
    "\n",
    "while True:\n",
    "    try:\n",
    "        images = driver.find_elements(by=By.TAG_NAME,value='img')\n",
    "        for image in images:\n",
    "            source = image.get_attribute('src')\n",
    "            my_images.add(source)\n",
    "        driver.execute_script('window.scrollTo(0, document.body.scrollHeight);')  \n",
    "        time.sleep(3)\n",
    "        print(len(my_images))\n",
    "        if len(my_images)>900:\n",
    "            break\n",
    "    except:\n",
    "        print('error')"
   ]
  },
  {
   "cell_type": "code",
   "execution_count": 22,
   "id": "35f7af83",
   "metadata": {
    "ExecuteTime": {
     "end_time": "2022-12-13T18:59:35.391053Z",
     "start_time": "2022-12-13T18:59:35.367049Z"
    }
   },
   "outputs": [
    {
     "data": {
      "text/plain": [
       "'C:\\\\Users\\\\VT\\\\InstgramScrapper\\\\cats'"
      ]
     },
     "execution_count": 22,
     "metadata": {},
     "output_type": "execute_result"
    }
   ],
   "source": [
    "path = os.getcwd()\n",
    "path = os.path.join(path, keyword[1:])\n",
    "\n",
    "os.mkdir(path)\n",
    "\n",
    "path"
   ]
  },
  {
   "cell_type": "code",
   "execution_count": 23,
   "id": "2974fcad",
   "metadata": {
    "ExecuteTime": {
     "end_time": "2022-12-13T19:01:40.160099Z",
     "start_time": "2022-12-13T18:59:38.203349Z"
    }
   },
   "outputs": [
    {
     "name": "stdout",
     "output_type": "stream",
     "text": [
      "100% [............................................................................] 159094 / 159094error 55\n",
      "100% [............................................................................] 141221 / 141221error 829\n",
      "100% [............................................................................] 206152 / 206152"
     ]
    }
   ],
   "source": [
    "counter = 0\n",
    "for image in my_images:\n",
    "    save_as = os.path.join(path, keyword[1:] + str(counter) + '.jpg')\n",
    "    try:\n",
    "        wget.download(image, save_as)\n",
    "        counter += 1\n",
    "    except:\n",
    "        print('error',counter)"
   ]
  },
  {
   "cell_type": "code",
   "execution_count": null,
   "id": "3a5d9504",
   "metadata": {},
   "outputs": [],
   "source": []
  }
 ],
 "metadata": {
  "kernelspec": {
   "display_name": "Python 3 (ipykernel)",
   "language": "python",
   "name": "python3"
  },
  "language_info": {
   "codemirror_mode": {
    "name": "ipython",
    "version": 3
   },
   "file_extension": ".py",
   "mimetype": "text/x-python",
   "name": "python",
   "nbconvert_exporter": "python",
   "pygments_lexer": "ipython3",
   "version": "3.9.12"
  }
 },
 "nbformat": 4,
 "nbformat_minor": 5
}
