{
 "cells": [
  {
   "cell_type": "code",
   "execution_count": null,
   "id": "52efa214",
   "metadata": {
    "ExecuteTime": {
     "end_time": "2022-12-13T13:36:57.165153Z",
     "start_time": "2022-12-13T13:36:56.780949Z"
    }
   },
   "outputs": [],
   "source": [
    "import cv2"
   ]
  },
  {
   "cell_type": "code",
   "execution_count": 17,
   "id": "502ae8cd",
   "metadata": {
    "ExecuteTime": {
     "end_time": "2022-12-13T13:43:09.423051Z",
     "start_time": "2022-12-13T13:43:09.404916Z"
    }
   },
   "outputs": [],
   "source": [
    "MODEL_MEAN_VALUES = (78.4263377603, 87.7689143744, 114.895847746)\n",
    "age_list = ['(0, 2)', '(4, 6)', '(8, 12)', '(15, 20)', '(25, 32)', '(38, 43)', '(48, 53)', '(60, 100)']\n",
    "gender_list = ['Female', 'male']\n",
    "\n",
    "def initialize_caffe_models():\n",
    "    age_net = cv2.dnn.readNetFromCaffe(\n",
    "        'deploy_age.prototxt', \n",
    "        'age_net.caffemodel')\n",
    "    gender_net = cv2.dnn.readNetFromCaffe(\n",
    "        'deploy_gender.prototxt', \n",
    "        'gender_net.caffemodel')\n",
    "    return(age_net, gender_net)\n",
    "\n",
    "\n",
    "\n"
   ]
  },
  {
   "cell_type": "code",
   "execution_count": 25,
   "id": "ef75667d",
   "metadata": {
    "ExecuteTime": {
     "end_time": "2022-12-13T13:44:54.454957Z",
     "start_time": "2022-12-13T13:44:54.429828Z"
    }
   },
   "outputs": [],
   "source": [
    "def read_from_image(age_net, gender_net):\n",
    "    font = cv2.FONT_HERSHEY_SIMPLEX\n",
    "    image= cv2.imread('cristiano-ronaldo.jpg')\n",
    "    face_cascade = cv2.CascadeClassifier('haarcascade_frontalface_alt.xml')\n",
    "    gray = cv2.cvtColor(image, cv2.COLOR_BGR2GRAY)\n",
    "    faces = face_cascade.detectMultiScale(gray, 1.1, 5)\n",
    "    if(len(faces)>0):\n",
    "        print(\"Found {} faces\".format(str(len(faces))))\n",
    "        for (x, y, w, h )in faces:\n",
    "            cv2.rectangle(image, (x, y), (x+w, y+h), (200, 200, 0), 2)\n",
    "            # Get Face \n",
    "            face_img = image[y:y+h, h:h+w].copy()\n",
    "            blob = cv2.dnn.blobFromImage(face_img, 1, (227, 227), MODEL_MEAN_VALUES, swapRB=False)\n",
    "             #Predict Gender\n",
    "            gender_net.setInput(blob)\n",
    "            gender_preds = gender_net.forward()\n",
    "            gender = gender_list[gender_preds[0].argmax()]\n",
    "            print(\"Gender : \" + gender)\n",
    "            #Predict Age\n",
    "            age_net.setInput(blob)\n",
    "            age_preds = age_net.forward()\n",
    "            age = age_list[age_preds[0].argmax()]\n",
    "            print(\"Age Range: \" + age)\n",
    "            overlay_text = \"%s %s\" % (gender, age)\n",
    "            cv2.putText(image, overlay_text, (x, y), font, 1, (255, 255, 255), 2, cv2.LINE_AA)\n",
    "        cv2.imshow('', image)#show the image \n",
    "        cv2.waitKey(0)\n",
    "\n"
   ]
  },
  {
   "cell_type": "code",
   "execution_count": 26,
   "id": "33031ea3",
   "metadata": {
    "ExecuteTime": {
     "end_time": "2022-12-13T13:58:57.583396Z",
     "start_time": "2022-12-13T13:44:56.864469Z"
    }
   },
   "outputs": [
    {
     "name": "stdout",
     "output_type": "stream",
     "text": [
      "Found 1 faces\n",
      "Gender : male\n",
      "Age Range: (25, 32)\n"
     ]
    }
   ],
   "source": [
    "if __name__ == \"__main__\":\n",
    "    age_net, gender_net = initialize_caffe_models()\n",
    "    read_from_image(age_net, gender_net)"
   ]
  },
  {
   "cell_type": "code",
   "execution_count": null,
   "id": "dc8d7a4f",
   "metadata": {},
   "outputs": [],
   "source": []
  }
 ],
 "metadata": {
  "kernelspec": {
   "display_name": "Python 3 (ipykernel)",
   "language": "python",
   "name": "python3"
  },
  "language_info": {
   "codemirror_mode": {
    "name": "ipython",
    "version": 3
   },
   "file_extension": ".py",
   "mimetype": "text/x-python",
   "name": "python",
   "nbconvert_exporter": "python",
   "pygments_lexer": "ipython3",
   "version": "3.9.12"
  }
 },
 "nbformat": 4,
 "nbformat_minor": 5
}
